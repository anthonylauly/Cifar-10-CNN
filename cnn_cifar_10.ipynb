{
 "cells": [
  {
   "cell_type": "markdown",
   "metadata": {},
   "source": [
    "# Image Classification with Cifar-10 Dataset Using CNN on Tensorflow"
   ]
  },
  {
   "cell_type": "markdown",
   "metadata": {},
   "source": [
    "In this notebook, I am going to make a classifier for CIFAR-10 Dataset using Convolutional Neural Network. The classifier is CNN based model. The CNN model should be feed with the images that has been preprocessed and normalized first. The classifier should then test the test set and make a classification of each test set. This notebook was run in NVIDIA GTX 1050, and intel Core i5 with cuda 10.1, cudnn 10.1, using tensorflow 1.13.1"
   ]
  },
  {
   "cell_type": "markdown",
   "metadata": {},
   "source": [
    "# Get the Data \n",
    "The dataset of Cifar-10 can be found here : https://www.cs.toronto.edu/~kriz/cifar-10-python.tar.gz\n",
    "For a simplicity purpose, I have reupload the Cifar-10 dataset with .csv format in my github. The label is in the last column. In this notebook I will be using this dataset."
   ]
  },
  {
   "cell_type": "markdown",
   "metadata": {},
   "source": [
    "First import the preprocessing library that will be useful for our project. Pandas package is use for data structure and data manipulation. preprocessing package from sklearn is used to normalize our images. train_test_split package is used to split our dataset as test images, train images, and validation images."
   ]
  },
  {
   "cell_type": "code",
   "execution_count": 1,
   "metadata": {},
   "outputs": [],
   "source": [
    "import pandas as pd\n",
    "from sklearn import preprocessing\n",
    "from sklearn.model_selection import train_test_split"
   ]
  },
  {
   "cell_type": "markdown",
   "metadata": {},
   "source": [
    "Read the dataset (images and labels) then store it in dataset variable. Our images size is 32x32x3 = 3072 columns. 32x32 is the image size and 3 means RGB. The last column is our labels. We store the images in X_data variable and the labels in y_data variable. "
   ]
  },
  {
   "cell_type": "code",
   "execution_count": 8,
   "metadata": {},
   "outputs": [],
   "source": [
    "dataset = pd.read_csv(\"dataset.csv\")\n",
    "X_data = dataset.iloc[:, :-1].values\n",
    "y_data = dataset.iloc[:, -1].values"
   ]
  },
  {
   "cell_type": "markdown",
   "metadata": {},
   "source": [
    "Our labels is an integer from 0 - 9 which is stand for : <br>\n",
    "- airplane   : 0 <br>\n",
    "- automobile : 1 <br>\n",
    "- bird       : 2 <br>\n",
    "- cat        : 3 <br>\n",
    "- deer       : 4 <br>\n",
    "- dog        : 5 <br>\n",
    "- frog       : 6 <br>\n",
    "- horse      : 7 <br>\n",
    "- ship       : 8 <br>\n",
    "- truck      : 9"
   ]
  },
  {
   "cell_type": "markdown",
   "metadata": {},
   "source": [
    "We Check out the random picture that is stored in our dataset and match it with the label. To do that, we should reshape our sample image from the shape of (_,3072) into (_,32,32,3). Then we visualize our data using matplotlib package."
   ]
  },
  {
   "cell_type": "code",
   "execution_count": 3,
   "metadata": {},
   "outputs": [
    {
     "name": "stdout",
     "output_type": "stream",
     "text": [
      "Our shape of random image :  (3072,)\n",
      "Our new shape of images :  (32, 32, 3)\n",
      "\n",
      "Our label is :  1\n",
      "Our image is :\n"
     ]
    },
    {
     "data": {
      "image/png": "[encoded data removed]",
      "text/plain": [
       "<Figure size 432x288 with 1 Axes>"
      ]
     },
     "metadata": {
      "needs_background": "light"
     },
     "output_type": "display_data"
    }
   ],
   "source": [
    "sample_img= X_data[4]\n",
    "sample_label = y_data[4]\n",
    "\n",
    "print(\"Our shape of random image : \",sample_img.shape)\n",
    "\n",
    "sample_img = sample_img.reshape(32, 32, 3) #Reshape our sample image\n",
    "print(\"Our new shape of images : \", sample_img.shape)\n",
    "\n",
    "import matplotlib.pyplot as plt #Import oyr matplotlib package\n",
    "%matplotlib inline\n",
    "\n",
    "plt.imshow(sample_img) #Visualize the image\n",
    "print()\n",
    "print(\"Our label is : \", sample_label)\n",
    "print(\"Our image is :\")"
   ]
  },
  {
   "cell_type": "markdown",
   "metadata": {},
   "source": [
    "# Preprocess the Data"
   ]
  },
  {
   "cell_type": "markdown",
   "metadata": {},
   "source": [
    "Our images have a pixel values ranging from 0 - 255. So we would normalize it, so it has mean = 0 and std deviation <= 1. <br>\n",
    "we would also like to one hot encode our labels. instead of having values 0 - 9, it will have 10 columns with represent each objects. <br>\n",
    "After that, we split our data, 70% for training data, 15% for validation data, and 15% for testing data. Since the data has been spread randomly, we do not need to randomise our splitting data."
   ]
  },
  {
   "cell_type": "code",
   "execution_count": 9,
   "metadata": {},
   "outputs": [],
   "source": [
    "X_data = preprocessing.normalize(X_data) #Normalize our images\n",
    "\n",
    "y_data = pd.get_dummies(y_data) #One hot encode our labels\n",
    "\n",
    "img_size = 32\n",
    "num_channel = 3 #RGB\n",
    "X_data = X_data.reshape(len(dataset), img_size, img_size, num_channel) #WxH = 32x32, RGB\n",
    "\n",
    "from sklearn.model_selection import train_test_split\n",
    "X_train, X_test, y_train, y_test = train_test_split(X_data,y_data, test_size = 0.3, random_state = 0) #split train data for 0.7\n",
    "X_test, X_val, y_test, y_val = train_test_split(X_test, y_test, test_size = 0.5, random_state = 0) #split test data for 0.15 and val data for 0.15"
   ]
  },
  {
   "cell_type": "markdown",
   "metadata": {},
   "source": [
    "# Create the CNN Model, Loss, and Optimizer"
   ]
  },
  {
   "cell_type": "markdown",
   "metadata": {},
   "source": [
    "To create the CNN model we will be using Tensorflow. Our CNN architecture as shown below : <br>\n",
    "![CNN Architecture](https://drive.google.com/open?id=1kWWgqA_5q9pXdaGmSudygeMTJtsT9NRo) <br>\n",
    "This architecture use the relu activation function for the hidden layers and use softmax in the output layer. Since we want to classify based on 10 different objects, then our final layer should have 10 nodes. Each node represent 1 object. <br>\n",
    "The architecture of CNN is hyperparameter, you can modify it till you get the best model's accuracy."
   ]
  },
  {
   "cell_type": "code",
   "execution_count": 10,
   "metadata": {},
   "outputs": [],
   "source": [
    "import tensorflow as tf\n",
    "def LeNet_5 (X):\n",
    "    # Layer 1: convolution layer 5x5, input =32x32x3, output = 32x32x64\n",
    "    conv1_w = tf.get_variable(\"W1\",initializer = tf.truncated_normal(shape = [5,5,3,64], mean = 0, stddev = 0.1))\n",
    "    conv1_b = tf.get_variable(\"b1\",initializer = tf.zeros(64))\n",
    "    conv1 = tf.nn.conv2d(X, conv1_w, strides = [1,1,1,1], padding = 'SAME') + conv1_b\n",
    "    #TODO : Activation\n",
    "    conv1 = tf.nn.relu(conv1)\n",
    "    \n",
    "    #Pooling Layer. Input = 32x32x64, Output = 16x16x64\n",
    "    pool_1 = tf.nn.max_pool(conv1, ksize=[1,2,2,1], strides = [1,2,2,1], padding = 'SAME')\n",
    "    \n",
    "    #Layer 2: Convolution layer 5x5, input 16x16x64, Output = 16x16x128\n",
    "    conv2_w = tf.get_variable(\"W2\",initializer = tf.truncated_normal(shape = [5,5,64,128], mean = 0, stddev = 0.1))\n",
    "    conv2_b = tf.get_variable(\"b2\",initializer = tf.zeros(128))\n",
    "    conv2 = tf.nn.conv2d(pool_1, conv2_w, strides = [1,1,1,1], padding = 'SAME') + conv2_b\n",
    "    #TODO: Activation\n",
    "    conv2 = tf.nn.relu(conv2)\n",
    "    \n",
    "    #Pooling Layer, Input = 16x16x64, Output = 8x8x64\n",
    "    pool_2 = tf.nn.max_pool(conv2, ksize = [1,2,2,1], strides = [1,2,2,1], padding = 'SAME')\n",
    "    \n",
    "    #Layer 3: Convolution layer 5x5, input 8x8x64, Output = 8x8x256\n",
    "    conv3_w = tf.get_variable(\"W3\",initializer = tf.truncated_normal(shape = [5,5,128, 256], mean = 0, stddev = 0.1))\n",
    "    conv3_b = tf.get_variable(\"b3\",initializer = tf.zeros(256))\n",
    "    conv3 = tf.nn.conv2d(pool_2, conv3_w, strides = [1,1,1,1], padding = 'SAME') + conv3_b\n",
    "    #TODO: Activation\n",
    "    conv3 = tf.nn.relu(conv3)\n",
    "    \n",
    "    #Pooling Layer, Input = 8x8x256, Output = 4x4x256\n",
    "    pool_3 = tf.nn.max_pool(conv3, ksize = [1,2,2,1], strides = [1,2,2,1], padding = 'SAME')\n",
    "    \n",
    "    #Layer 4: Convolution layer 5x5, input 4x4x256, Output = 4x4x512\n",
    "    conv4_w = tf.get_variable(\"W4\",initializer = tf.truncated_normal(shape = [5,5,256,512], mean = 0, stddev = 0.1))\n",
    "    conv4_b = tf.get_variable(\"b4\",initializer = tf.zeros(512))\n",
    "    conv4 = tf.nn.conv2d(pool_3, conv4_w, strides = [1,1,1,1], padding = 'SAME') + conv4_b\n",
    "    #TODO: Activation\n",
    "    conv4 = tf.nn.relu(conv4)\n",
    "    \n",
    "    #Pooling Layer, Input = 4x4x512, Output = 2x2x512\n",
    "    pool_4 = tf.nn.max_pool(conv4, ksize = [1,2,2,1], strides = [1,2,2,1], padding = 'SAME')\n",
    "    \n",
    "    #TODO : Flatten, Input = 2x2x512, Output = 2048\n",
    "    fc1 = tf.contrib.layers.flatten(pool_4)\n",
    "    \n",
    "    #Layer3: Fully Connected Layer. Input = 2048, Output = 1024\n",
    "    fc1_w = tf.get_variable(\"W5\",initializer = tf.truncated_normal(shape = (2048,1024), mean = 0, stddev = 0.08))\n",
    "    fc1_b = tf.get_variable(\"b5\",initializer = tf.zeros(1024))\n",
    "    fc1 = tf.matmul(fc1, fc1_w) + fc1_b\n",
    "    #TODO: Activation\n",
    "    fc1 = tf.nn.relu(fc1)\n",
    "    \n",
    "    #Layer4 : Fully Connected Layer. Input = 1024, Output = 512\n",
    "    fc2_w = tf.get_variable(\"W6\",initializer = tf.truncated_normal(shape = (1024, 512), mean = 0, stddev = 0.08))\n",
    "    fc2_b = tf.get_variable(\"b6\",initializer = tf.zeros(512))\n",
    "    fc2 = tf.matmul(fc1, fc2_w) + fc2_b\n",
    "    #TODO: Activation\n",
    "    fc2 = tf.nn.relu(fc2)\n",
    "    \n",
    "    #Layer5 : Fully Connected Layer. Input = 512, Output = 256\n",
    "    fc3_w = tf.get_variable(\"W7\",initializer = tf.truncated_normal(shape = (512, 256), mean = 0, stddev = 0.08))\n",
    "    fc3_b = tf.get_variable(\"b7\",initializer = tf.zeros(256))\n",
    "    fc3 = tf.matmul(fc2, fc3_w) + fc3_b\n",
    "    #TODO: Activation\n",
    "    fc3 = tf.nn.relu(fc3)\n",
    "    \n",
    "    #Layer6 : Fully Connected Layer. Input = 256, Output = 128\n",
    "    fc4_w = tf.get_variable(\"W8\", initializer = tf.truncated_normal(shape = (256, 128), mean = 0, stddev = 0.08))\n",
    "    fc4_b = tf.get_variable(\"b8\", initializer = tf.zeros(128))\n",
    "    fc4 = tf.matmul(fc3, fc4_w) + fc4_b\n",
    "    #TODO: Activation\n",
    "    fc4 = tf.nn.relu(fc4)\n",
    "    \n",
    "    #Layer7 : Fully Connected Layer. Input = 128, Output = 64\n",
    "    fc5_w = tf.get_variable(\"W9\", initializer = tf.truncated_normal(shape = (128, 64), mean = 0, stddev = 0.08))\n",
    "    fc5_b = tf.get_variable(\"b9\", initializer = tf.zeros(64))\n",
    "    fc5 = tf.matmul(fc4, fc5_w) + fc5_b\n",
    "    #TODO: Activation\n",
    "    fc5 = tf.nn.relu(fc5)\n",
    "    \n",
    "    #Layer5 : Fully Connected Layer, Input = 64, Output = 10\n",
    "    fc6_w = tf.get_variable(\"W10\", initializer = tf.truncated_normal(shape = (64, 10), mean = 0, stddev = 0.08))\n",
    "    fc6_b = tf.get_variable(\"b10\", initializer = tf.zeros(10))\n",
    "    logits = tf.matmul(fc5, fc6_w) + fc6_b\n",
    "    \n",
    "    return logits"
   ]
  },
  {
   "cell_type": "markdown",
   "metadata": {},
   "source": [
    "We store the images and labels that we will assign to the model in placeholder. X for the images and y for the labels. Placeholder in tensorflow are used to feed external data into TensorFlow graph. <br> Check out [this](https://www.quora.com/What-is-the-difference-between-Variables-and-Placeholders-in-tensor-flow) Q&A discussion in quora for detail explanation about TensorFlow's placeholder.<br><br>\n",
    "we define the model in the main code as logits."
   ]
  },
  {
   "cell_type": "code",
   "execution_count": 11,
   "metadata": {},
   "outputs": [
    {
     "name": "stdout",
     "output_type": "stream",
     "text": [
      "WARNING:tensorflow:From G:\\Anaconda3\\lib\\site-packages\\tensorflow\\python\\framework\\op_def_library.py:263: colocate_with (from tensorflow.python.framework.ops) is deprecated and will be removed in a future version.\n",
      "Instructions for updating:\n",
      "Colocations handled automatically by placer.\n",
      "\n",
      "WARNING: The TensorFlow contrib module will not be included in TensorFlow 2.0.\n",
      "For more information, please see:\n",
      "  * https://github.com/tensorflow/community/blob/master/rfcs/20180907-contrib-sunset.md\n",
      "  * https://github.com/tensorflow/addons\n",
      "If you depend on functionality not listed there, please file an issue.\n",
      "\n",
      "WARNING:tensorflow:From G:\\Anaconda3\\lib\\site-packages\\tensorflow\\contrib\\layers\\python\\layers\\layers.py:1624: flatten (from tensorflow.python.layers.core) is deprecated and will be removed in a future version.\n",
      "Instructions for updating:\n",
      "Use keras.layers.flatten instead.\n"
     ]
    }
   ],
   "source": [
    "X = tf.placeholder(tf.float32, shape = [None, 32,32,3]) #X placeholder\n",
    "y = tf.placeholder(tf.int32, shape = [None,10]) #y placeholder\n",
    "\n",
    "logits = LeNet_5(X)"
   ]
  },
  {
   "cell_type": "markdown",
   "metadata": {},
   "source": [
    "We will be using the categorical_cross_entropy as our loss function and Adam as our optimizer. We update our model's weights and bias by reducing our loss function. We use learning rate of 0.0015. The learning rate value is hyperparameter. If the learning rate value is too high then it will oscillate around the minimum value. While if the learning rate is too low, it will be computationally expensive."
   ]
  },
  {
   "cell_type": "code",
   "execution_count": 12,
   "metadata": {},
   "outputs": [],
   "source": [
    "cross_entropy = tf.nn.softmax_cross_entropy_with_logits_v2(labels = y, logits = logits) #compute the cross entropy losses\n",
    "loss_operation = tf.reduce_mean(cross_entropy) #Reduce the cross entropy losses into single unit by taking the mean of it\n",
    "\n",
    "optimizer = tf.train.AdamOptimizer(learning_rate = 0.0015)\n",
    "training_operation = optimizer.minimize(loss_operation) #Backpropragate our model using Adam optimizer\n",
    "\n",
    "#To train and evaluate the model\n",
    "correct_prediction = tf.equal(tf.argmax(logits,1), tf.argmax(y,1)) #sum all the match prediction and labels\n",
    "accuracy_operation = tf.reduce_mean(tf.cast(correct_prediction, tf.float32)) #Store the accuracy of our input data."
   ]
  },
  {
   "cell_type": "markdown",
   "metadata": {},
   "source": [
    "# Train our Model"
   ]
  },
  {
   "cell_type": "markdown",
   "metadata": {},
   "source": [
    "We train our model with 50 iterations/epochs. each iteration runs for 128 batches size. In TensorFlow, we can only run our model inside a session. Our training process will run inside the session. We are training with 128 batches size. If we have X images for our training set. Then, each process of training will take X/128 images instead of a single image. "
   ]
  },
  {
   "cell_type": "code",
   "execution_count": 15,
   "metadata": {},
   "outputs": [
    {
     "name": "stdout",
     "output_type": "stream",
     "text": [
      "Training... with dataset -  35000\n",
      "\n",
      "EPOCH 1 ...\n",
      "Validation Accuracy =  0.394\n",
      "\n",
      "EPOCH 2 ...\n",
      "Validation Accuracy =  0.508\n",
      "\n",
      "EPOCH 3 ...\n",
      "Validation Accuracy =  0.558\n",
      "\n",
      "EPOCH 4 ...\n",
      "Validation Accuracy =  0.581\n",
      "\n",
      "EPOCH 5 ...\n",
      "Validation Accuracy =  0.625\n",
      "\n",
      "EPOCH 6 ...\n",
      "Validation Accuracy =  0.608\n",
      "\n",
      "EPOCH 7 ...\n",
      "Validation Accuracy =  0.593\n",
      "\n",
      "EPOCH 8 ...\n",
      "Validation Accuracy =  0.608\n",
      "\n",
      "EPOCH 9 ...\n",
      "Validation Accuracy =  0.596\n",
      "\n",
      "EPOCH 10 ...\n",
      "Validation Accuracy =  0.610\n",
      "\n",
      "Model saves \n"
     ]
    }
   ],
   "source": [
    "EPOCHS = 10\n",
    "BATCH_SIZE = 128    \n",
    "    \n",
    "#Train data till 50 epochs\n",
    "with tf.Session() as sess:    \n",
    "    sess.run(tf.global_variables_initializer()) #Initialize global variables\n",
    "    num_examples = len(X_train)\n",
    "      \n",
    "    print(\"Training... with dataset - \", num_examples)\n",
    "    print()\n",
    "    for i in range(EPOCHS):\n",
    "        step = int(len(X_train)/BATCH_SIZE)\n",
    "        for offset in range(0, BATCH_SIZE):\n",
    "            batch_X, batch_y = X_train[step*offset:step*(offset+1)], y_train[step*offset:step*(offset+1)]\n",
    "            sess.run(training_operation, feed_dict = {X: batch_X, y: batch_y})\n",
    "        \n",
    "        validation_accuracy = sess.run(accuracy_operation, feed_dict = {X: X_val, y: y_val})\n",
    "        print(\"EPOCH {} ...\".format(i+1))\n",
    "        print(\"Validation Accuracy =  {:.3f}\".format(validation_accuracy))\n",
    "        print()\n",
    "        \n",
    "    '''Saving the trained model'''\n",
    "    saver = tf.train.Saver()\n",
    "    save_path = saver.save(sess, 'tmp1/convnet.ckpt') \n",
    "    print(\"Model saves \")"
   ]
  },
  {
   "cell_type": "markdown",
   "metadata": {},
   "source": [
    "# Test our Model"
   ]
  },
  {
   "cell_type": "markdown",
   "metadata": {},
   "source": [
    "After We have succesfully trained our model, then we should test it with our test set. Test set should not be feeded in the training process. Because we want to test how accurate our model to classify unseen images."
   ]
  },
  {
   "cell_type": "code",
   "execution_count": 19,
   "metadata": {},
   "outputs": [
    {
     "name": "stdout",
     "output_type": "stream",
     "text": [
      "INFO:tensorflow:Restoring parameters from tmp1/convnet.ckpt\n",
      "Test Accuracy =  0.6164\n"
     ]
    }
   ],
   "source": [
    "with tf.Session() as sess:\n",
    "    saver = tf.train.Saver()\n",
    "    model = saver.restore(sess, \"tmp1/convnet.ckpt\")\n",
    "    test_accuracy = sess.run(accuracy_operation, feed_dict = {X: X_test, y: y_test})\n",
    "    print(\"Test Accuracy = \", test_accuracy)"
   ]
  }
 ],
 "metadata": {
  "kernelspec": {
   "display_name": "Python 3",
   "language": "python",
   "name": "python3"
  },
  "language_info": {
   "codemirror_mode": {
    "name": "ipython",
    "version": 3
   },
   "file_extension": ".py",
   "mimetype": "text/x-python",
   "name": "python",
   "nbconvert_exporter": "python",
   "pygments_lexer": "ipython3",
   "version": "3.6.8"
  }
 },
 "nbformat": 4,
 "nbformat_minor": 2
}
